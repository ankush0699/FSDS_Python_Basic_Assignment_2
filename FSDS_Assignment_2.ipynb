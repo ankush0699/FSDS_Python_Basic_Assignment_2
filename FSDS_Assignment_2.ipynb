{
 "cells": [
  {
   "cell_type": "code",
   "execution_count": null,
   "id": "88656a08-61cd-43c3-a5f7-60952fad71b8",
   "metadata": {},
   "outputs": [],
   "source": [
    "# Name: Ankush Shukla,   Email: ankushshukla0612@gmail.com, "
   ]
  },
  {
   "cell_type": "code",
   "execution_count": null,
   "id": "27d0596b-b6ef-413a-9f4b-5f79c14d59b1",
   "metadata": {},
   "outputs": [],
   "source": [
    "# Python Basic Assignment"
   ]
  },
  {
   "cell_type": "code",
   "execution_count": null,
   "id": "e6a99039-4501-4cf9-8137-bcdc5e46611b",
   "metadata": {},
   "outputs": [],
   "source": [
    "# Question_1: 1.What are the two values of the Boolean data type? How do you write them?"
   ]
  },
  {
   "cell_type": "code",
   "execution_count": null,
   "id": "165dc3ba-d0ed-4d10-84b4-b3ae8f0d0fdf",
   "metadata": {},
   "outputs": [],
   "source": [
    "\"\"\" \n",
    "Answer: Boolean data type are written as:\n",
    "\n",
    "true: This represents the true or affirmative state. It is represented by 1.\n",
    "false: This represents the false or negative state. It is represented by 0.\n",
    "\n",
    "\"\"\""
   ]
  },
  {
   "cell_type": "code",
   "execution_count": null,
   "id": "d3dee042-e592-40df-a1fb-881999a43e6f",
   "metadata": {},
   "outputs": [],
   "source": []
  },
  {
   "cell_type": "code",
   "execution_count": null,
   "id": "90648979-3dc4-4cb6-8022-0ff3fad0a47b",
   "metadata": {},
   "outputs": [],
   "source": [
    "# Question_2: What are the three different types of Boolean operators?"
   ]
  },
  {
   "cell_type": "code",
   "execution_count": null,
   "id": "a7b9c913-cd2c-474f-b2b7-e1da01376225",
   "metadata": {},
   "outputs": [],
   "source": [
    "\"\"\"\n",
    "Answer: Three different types of boolean operators are as follows:\n",
    "        1. AND \n",
    "        2. OR\n",
    "        3. NOT\n",
    "\n",
    "\n",
    "\"\"\"\n"
   ]
  },
  {
   "cell_type": "code",
   "execution_count": null,
   "id": "a7858b01-f8bf-449f-b8a2-f0304c19e972",
   "metadata": {},
   "outputs": [],
   "source": []
  },
  {
   "cell_type": "code",
   "execution_count": null,
   "id": "2984ce7f-a056-42c3-aa80-c9b85d0f60c4",
   "metadata": {
    "tags": []
   },
   "outputs": [],
   "source": [
    "# Question_3: Make a list of each Boolean operator's truth tables (i.e. every possible combination of Boolean\n",
    "#             values for the operator and what it evaluate )."
   ]
  },
  {
   "cell_type": "code",
   "execution_count": 3,
   "id": "88496724-6461-4a38-8c7f-81ec0f297d24",
   "metadata": {},
   "outputs": [
    {
     "name": "stdout",
     "output_type": "stream",
     "text": [
      "1. AND Operator Truth Table:\n",
      "\n",
      "| A      |     B   |    A && B |\n",
      "| .......|.........|...........|\n",
      "| True   | True   |   True  |\n",
      "| True   | False   |   False  |\n",
      "| False   | True   |   False  |\n",
      "| False   | False   |   False  |\n",
      "\n",
      "2. OR Operator Truth Table:\n",
      "\n",
      "| A      |     B   |    A || B |\n",
      "| .......|.........|...........|\n",
      "| True   | True   |   True    |\n",
      "| True   | False   |   True    |\n",
      "| False   | True   |   True    |\n",
      "| False   | False   |   False    |\n",
      "\n",
      "3. NOT Operator Truth Table:\n",
      "\n",
      "| A      |     !A   |\n",
      "| .......|.........|\n",
      "| True   | False  |\n",
      "| False   | True  |\n"
     ]
    }
   ],
   "source": [
    "# Let us first define Boolean values:\n",
    "boolean_value = [True, False]\n",
    "\n",
    "# AND Operator Truth Table:\n",
    "print(\"1. AND Operator Truth Table:\")\n",
    "print(\"\\n| A      |     B   |    A && B |\")\n",
    "print(\"| .......|.........|...........|\")\n",
    "for A in boolean_value:\n",
    "    for B in boolean_value:\n",
    "        print(f\"| {A}   | {B}   |   {A and B}  |\")\n",
    "\n",
    "# OR Operator Truth Table\n",
    "print(\"\\n2. OR Operator Truth Table:\")\n",
    "print(\"\\n| A      |     B   |    A || B |\")\n",
    "print(\"| .......|.........|...........|\")\n",
    "for A in boolean_value:\n",
    "    for B in boolean_value:\n",
    "        print(f\"| {A}   | {B}   |   {A or B}    |\")\n",
    "\n",
    "# NOT Operator Truth Table\n",
    "print(\"\\n3. NOT Operator Truth Table:\")\n",
    "print(\"\\n| A      |     !A   |\")\n",
    "print(\"| .......|.........|\")\n",
    "for A in boolean_value:\n",
    "    print(f\"| {A}   | {not A}  |\")\n"
   ]
  },
  {
   "cell_type": "code",
   "execution_count": null,
   "id": "a6c840b7-bc37-4a2c-9bf5-544e22ed77b6",
   "metadata": {},
   "outputs": [],
   "source": []
  },
  {
   "cell_type": "code",
   "execution_count": null,
   "id": "78a8643d-580f-4ce2-ade4-fc87c10fef08",
   "metadata": {},
   "outputs": [],
   "source": [
    "# Question_4: What are the values of the following expressions?\n",
    "#             (5 &gt; 4) and (3 == 5)\n",
    "#             not (5 &gt; 4)\n",
    "#             (5 &gt; 4) or (3 == 5)\n",
    "#             not ((5 &gt; 4) or (3 == 5))\n",
    "#             (True and True) and (True == False)\n",
    "#             (not False) or (not True)"
   ]
  },
  {
   "cell_type": "code",
   "execution_count": null,
   "id": "d9eda7f7-fcc7-4227-8ffe-1d620ae4c349",
   "metadata": {},
   "outputs": [],
   "source": [
    "\"\"\"\n",
    "Answer:     (5 > 4) and (3 == 5):  false \n",
    "            not (5 > 4):  false \n",
    "            (5 > 4) or (3 == 5): true  \n",
    "            not ((5 > 4) or (3 == 5)): false  \n",
    "            (True and True) and (True == False): false  \n",
    "            (not False) or (not True): true\n",
    "\"\"\""
   ]
  },
  {
   "cell_type": "code",
   "execution_count": null,
   "id": "70533130-b482-4e39-9bce-654816fb3c50",
   "metadata": {},
   "outputs": [],
   "source": []
  },
  {
   "cell_type": "code",
   "execution_count": null,
   "id": "abfab8f6-81c1-4f93-a081-94150d6f3f2d",
   "metadata": {},
   "outputs": [],
   "source": [
    "# Question_5:  What are the six comparison operators?"
   ]
  },
  {
   "cell_type": "code",
   "execution_count": null,
   "id": "d73547fe-0289-4a18-ba91-c53278c601e3",
   "metadata": {},
   "outputs": [],
   "source": [
    "\"\"\"\n",
    "Answer:  The six comparison operators are as follows:\n",
    "        \n",
    "        1. Greater than (>)\n",
    "        2. Less than (<)\n",
    "        3. Equal to (==)\n",
    "        4. Not Equal to (!=)\n",
    "        5. Greater than or equal to (>=)\n",
    "        6.Less than or equal to (<=)\n",
    "\"\"\""
   ]
  },
  {
   "cell_type": "code",
   "execution_count": null,
   "id": "e4ab8ef8-a4b8-4ebc-a440-899520dbd398",
   "metadata": {},
   "outputs": [],
   "source": []
  },
  {
   "cell_type": "code",
   "execution_count": null,
   "id": "6da36873-2523-4244-9b5c-2eca9ebb7e2b",
   "metadata": {},
   "outputs": [],
   "source": [
    "# Question_6: How do you tell the difference between the equal to and assignment operators?Describe a\n",
    "#             condition and when you would use one."
   ]
  },
  {
   "cell_type": "code",
   "execution_count": null,
   "id": "b893d10f-9813-482c-8c97-03532cf5b160",
   "metadata": {},
   "outputs": [],
   "source": [
    "\"\"\"\n",
    "Answer:  To distinguish between Assignment and Equal to operator we have to consider following points:\n",
    "         \n",
    "         1. Assignment Operator (=):\n",
    "\n",
    "            The assignment operator is used to assign a value to a variable.\n",
    "            It is used to store a value in a variable or update the value of an existing variable.\n",
    "            It does not return a value; it simply performs the assignment.\n",
    "\n",
    "         2. Equal to Operator (==):\n",
    "\n",
    "            The equal to operator is used to compare two values to check if they are equal.\n",
    "            It is used in conditional statements, comparisons, and logical expressions.\n",
    "            It returns a Boolean value, true or false, based on the comparison.\n",
    "\"\"\"\n",
    "\n",
    "#       Describing a condition and explaining when to use one:\n",
    "        \n",
    "        \"\"\" x = 5\n",
    "            y = 5\n",
    "            if x == y:\n",
    "                print(\"x is equal to y\")\n",
    "        \n",
    "        \"\"\"\n",
    "\n",
    "        #  To check above condition, x==y, we first assign values to x and y. To do so we use assignment operator(=).\n",
    "        #  Now to check whether these two values are equal or not we use a comparision operator, Equal to (==).\n",
    "\n",
    "\n",
    "\n",
    "\n"
   ]
  },
  {
   "cell_type": "code",
   "execution_count": null,
   "id": "e710af41-cdd7-4171-bd8c-b6df6b20ae17",
   "metadata": {},
   "outputs": [],
   "source": []
  },
  {
   "cell_type": "code",
   "execution_count": null,
   "id": "4d7225dc-dfe2-41dc-924c-c69f0fa0709d",
   "metadata": {},
   "outputs": [],
   "source": [
    "# Question_7:  Identify the three blocks in this code:\n",
    "\"\"\"\n",
    "spam = 0\n",
    "if spam == 10:\n",
    "    print(\"eggs\")\n",
    "    if spam > 5:\n",
    "        print(\"bacon\")\n",
    "    else:\n",
    "        print(\"ham\")\n",
    "    print(\"spam\")\n",
    "print(\"spam\")\n",
    "\"\"\""
   ]
  },
  {
   "cell_type": "code",
   "execution_count": 4,
   "id": "8c0311c6-42cf-4d90-8da7-af0c780f6d18",
   "metadata": {},
   "outputs": [
    {
     "name": "stdout",
     "output_type": "stream",
     "text": [
      "ham\n",
      "spam\n",
      "spam\n"
     ]
    }
   ],
   "source": [
    "#Answer:\n",
    "\n",
    "spam = 0\n",
    "if spam == 10:\n",
    "    # this is block number 1, indentation level 0\n",
    "    print(\"eggs\")\n",
    "    if spam > 5:\n",
    "        #this is block number 2, indentation level 1, nested within block 1\n",
    "        print(\"bacon\")\n",
    "else:\n",
    "    #this is block number 3, indentation level 0\n",
    "    print(\"ham\")\n",
    "        \n",
    "    print(\"spam\")\n",
    "print(\"spam\")\n",
    " \n",
    " \n",
    "    "
   ]
  },
  {
   "cell_type": "code",
   "execution_count": null,
   "id": "b57e8f5f-172b-4bda-9043-d40a46ead03c",
   "metadata": {},
   "outputs": [],
   "source": []
  },
  {
   "cell_type": "code",
   "execution_count": null,
   "id": "087395a0-58d0-4aa9-ad04-6c1d9a2b0389",
   "metadata": {},
   "outputs": [],
   "source": [
    "#Question_8: Write code that prints Hello if 1 is stored in spam, prints Howdy if 2 is stored in spam, and prints\n",
    "#            Greetings! if anything else is stored in spam."
   ]
  },
  {
   "cell_type": "code",
   "execution_count": 13,
   "id": "49d30fda-d5c0-409b-8e31-ede2fcb519e5",
   "metadata": {},
   "outputs": [
    {
     "name": "stdin",
     "output_type": "stream",
     "text": [
      "please give your input: 3\n"
     ]
    },
    {
     "name": "stdout",
     "output_type": "stream",
     "text": [
      "Greetings!\n"
     ]
    }
   ],
   "source": [
    "#Answer:\n",
    "\n",
    "spam = int(input(\"please give your input:\"))\n",
    "\n",
    "if spam == 1:\n",
    "    print(\"Hello\")\n",
    "    \n",
    "elif spam == 2:\n",
    "    print(\"Howdy\")\n",
    "\n",
    "else:\n",
    "    print(\"Greetings!\")"
   ]
  },
  {
   "cell_type": "code",
   "execution_count": null,
   "id": "c6166531-e7b2-4088-8026-facbd3ceaf9d",
   "metadata": {},
   "outputs": [],
   "source": []
  },
  {
   "cell_type": "code",
   "execution_count": null,
   "id": "eb0685cc-4dfe-422e-9c10-f45cb87f291b",
   "metadata": {},
   "outputs": [],
   "source": [
    "#Question_9: If your programme is stuck in an endless loop, what keys you’ll press?"
   ]
  },
  {
   "cell_type": "code",
   "execution_count": null,
   "id": "f5f814c8-a7f7-42d3-b1db-56f6221ff9b7",
   "metadata": {},
   "outputs": [],
   "source": [
    "#Answer:  Ctrl + C"
   ]
  },
  {
   "cell_type": "code",
   "execution_count": null,
   "id": "88244905-6160-4f67-b758-f2ed38cfed22",
   "metadata": {},
   "outputs": [],
   "source": []
  },
  {
   "cell_type": "code",
   "execution_count": null,
   "id": "c7543e51-2903-489d-9663-1b19c9aa1ebe",
   "metadata": {},
   "outputs": [],
   "source": [
    "#Question_10: How can you tell the difference between break and continue?"
   ]
  },
  {
   "cell_type": "code",
   "execution_count": null,
   "id": "05930837-040a-4df4-8ebb-702bff85077d",
   "metadata": {},
   "outputs": [],
   "source": [
    "#Answer:   \n",
    "\n",
    "\"\"\"\n",
    "The key difference between \"break\" and \"continue\" is their purpose within loops:\n",
    "\n",
    "break: break is used to exit the current loop prematurely.\n",
    "continue: continue is used to skip the current iteration of the loop and move to the next iteration.\n",
    "\"\"\""
   ]
  },
  {
   "cell_type": "code",
   "execution_count": null,
   "id": "7428b512-1fa9-40e3-b83d-505ea7a419e8",
   "metadata": {},
   "outputs": [],
   "source": []
  },
  {
   "cell_type": "code",
   "execution_count": null,
   "id": "c4335123-e25c-4412-8352-f0ebf73b30bc",
   "metadata": {},
   "outputs": [],
   "source": [
    "#Question_11: In a for loop, what is the difference between range(10), range(0, 10), and range(0, 10, 1)?"
   ]
  },
  {
   "cell_type": "code",
   "execution_count": 19,
   "id": "b92aa64b-4e31-4c9e-bddc-a7d60808e71a",
   "metadata": {},
   "outputs": [],
   "source": [
    "#Answer: \n",
    "\n",
    "# range(10)\n",
    "for i in range(10):\n",
    "    print(i)\n",
    "#  This will iterate from 0 to 9, printing the numbers from 0 to 9.\n",
    "\n",
    "\n",
    "# range(0,10)\n",
    "for i in range(0,10):\n",
    "    print(i)\n",
    "#  This will iterate from 0 to 9, printing the numbers from 0 to 9. \n",
    "#  This one specifies the start value (0) and end stop value (10) also. \n",
    "#  With this type of range naming we can set our preffered start index.\n",
    "\n",
    "\n",
    "# range(0,10,1)\n",
    "for i in range(0, 10, 1):\n",
    "    print(i)\n",
    "    \n",
    "#  This expression explicitly specifies both the start and stop values for the range, just like the previous case.\n",
    "#  Additionally, it explicitly specifies the step size, which is 1 in this case.\n",
    "#  However, specifying a step size of 1 is redundant because 1 is the default step size.\n",
    "\n"
   ]
  },
  {
   "cell_type": "code",
   "execution_count": null,
   "id": "0ca1239f-9985-46e7-913b-b48388fabb58",
   "metadata": {},
   "outputs": [],
   "source": []
  },
  {
   "cell_type": "code",
   "execution_count": null,
   "id": "276cfc16-d400-4784-8cb0-afdbb8e2c371",
   "metadata": {},
   "outputs": [],
   "source": [
    "#Question_12:  Write a short program that prints the numbers 1 to 10 using a for loop. Then write an equivalent\n",
    "#              program that prints the numbers 1 to 10 using a while loop."
   ]
  },
  {
   "cell_type": "code",
   "execution_count": 8,
   "id": "bf94c685-34ed-42a4-8b54-60ba77996a25",
   "metadata": {},
   "outputs": [
    {
     "name": "stdout",
     "output_type": "stream",
     "text": [
      "1\n",
      "2\n",
      "3\n",
      "4\n",
      "5\n",
      "6\n",
      "7\n",
      "8\n",
      "9\n",
      "10\n"
     ]
    }
   ],
   "source": [
    "#Answer:\n",
    "\n",
    "#By using a for loop:\n",
    "\n",
    "for i in range(1,11):\n",
    "    print (i)"
   ]
  },
  {
   "cell_type": "code",
   "execution_count": 10,
   "id": "c4fca1e1-9c1f-4c3f-938e-248a83b2eb87",
   "metadata": {},
   "outputs": [
    {
     "name": "stdout",
     "output_type": "stream",
     "text": [
      "1\n",
      "2\n",
      "3\n",
      "4\n",
      "5\n",
      "6\n",
      "7\n",
      "8\n",
      "9\n",
      "10\n"
     ]
    }
   ],
   "source": [
    "# By using a while loop\n",
    "i = 1\n",
    "while i < 11:\n",
    "    print(i)\n",
    "    i += 1"
   ]
  },
  {
   "cell_type": "code",
   "execution_count": null,
   "id": "8360b4ab-a3bc-481d-ac7b-d116aeb90752",
   "metadata": {},
   "outputs": [],
   "source": []
  },
  {
   "cell_type": "code",
   "execution_count": null,
   "id": "787d6c6f-fba5-45c3-b78b-255814c7f717",
   "metadata": {},
   "outputs": [],
   "source": [
    "#Question_13: If you had a function named bacon() inside a module named spam, how would you call it after\n",
    "#             importing spam?"
   ]
  },
  {
   "cell_type": "code",
   "execution_count": null,
   "id": "3aad5f03-7b47-405c-aa7c-997a40a3d443",
   "metadata": {},
   "outputs": [],
   "source": [
    "#Answer:  \n",
    "\n",
    "\"\"\"\n",
    "import spam\n",
    "\n",
    "# Calling the bacon() function from the spam module.\n",
    "spam.bacon()\n",
    "\n",
    "\"\"\"\n"
   ]
  },
  {
   "cell_type": "code",
   "execution_count": null,
   "id": "d21d89ac-159d-461f-9d81-0246fa093c17",
   "metadata": {},
   "outputs": [],
   "source": []
  },
  {
   "cell_type": "code",
   "execution_count": null,
   "id": "a5ee2142-8b22-44fd-9b1d-5abd2cf10325",
   "metadata": {},
   "outputs": [],
   "source": []
  },
  {
   "cell_type": "code",
   "execution_count": null,
   "id": "323ef4f7-002d-4b15-b9c2-ec6d5c53ee80",
   "metadata": {},
   "outputs": [],
   "source": []
  },
  {
   "cell_type": "code",
   "execution_count": null,
   "id": "401043de-b33b-499c-b2ca-afb1fce5646d",
   "metadata": {},
   "outputs": [],
   "source": []
  },
  {
   "cell_type": "code",
   "execution_count": null,
   "id": "624cfa56-b204-4aa8-bda5-7583260a6bab",
   "metadata": {},
   "outputs": [],
   "source": []
  }
 ],
 "metadata": {
  "kernelspec": {
   "display_name": "Python 3 (ipykernel)",
   "language": "python",
   "name": "python3"
  },
  "language_info": {
   "codemirror_mode": {
    "name": "ipython",
    "version": 3
   },
   "file_extension": ".py",
   "mimetype": "text/x-python",
   "name": "python",
   "nbconvert_exporter": "python",
   "pygments_lexer": "ipython3",
   "version": "3.10.6"
  }
 },
 "nbformat": 4,
 "nbformat_minor": 5
}
